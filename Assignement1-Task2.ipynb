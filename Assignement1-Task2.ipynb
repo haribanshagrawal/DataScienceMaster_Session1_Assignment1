{
 "cells": [
  {
   "cell_type": "code",
   "execution_count": 1,
   "metadata": {},
   "outputs": [
    {
     "name": "stdout",
     "output_type": "stream",
     "text": [
      "Enter Comma Seperated Valueg.5.5s,h,\n",
      "['g.5.5s', 'h', '']\n"
     ]
    }
   ],
   "source": [
    "#2.1\n",
    "'''Write a program which accepts a sequence of comma-separated numbers from console and\n",
    "generate a list.'''\n",
    "s=input(\"Enter Comma Seperated Value\")\n",
    "l=s.split(',')\n",
    "print(l)"
   ]
  },
  {
   "cell_type": "code",
   "execution_count": 2,
   "metadata": {},
   "outputs": [
    {
     "name": "stdout",
     "output_type": "stream",
     "text": [
      "*\n",
      "* *\n",
      "* * *\n",
      "* * * *\n",
      "* * * * *\n",
      "* * * *\n",
      "* * *\n",
      "* *\n",
      "*\n"
     ]
    }
   ],
   "source": [
    "#2.2\n",
    "'''Create the below pattern using nested for loop in Python.'''\n",
    "steps=5\n",
    "for r in range(steps):\n",
    "    for c in range(r):\n",
    "        print('* ', end='')\n",
    "    print('*')\n",
    "for r in range(steps-1,0,-1):\n",
    "    for c in range(r-1):\n",
    "        print('* ', end='')\n",
    "    print('*')"
   ]
  },
  {
   "cell_type": "code",
   "execution_count": 3,
   "metadata": {},
   "outputs": [
    {
     "name": "stdout",
     "output_type": "stream",
     "text": [
      "Enter a WordAcadgild\n",
      "dligdacA\n"
     ]
    }
   ],
   "source": [
    "#2.3\n",
    "'''Write a Python program to reverse a word after accepting the input from the user.'''\n",
    "X=input(\"Enter a Word\")\n",
    "print(X[::-1])"
   ]
  },
  {
   "cell_type": "code",
   "execution_count": 4,
   "metadata": {},
   "outputs": [
    {
     "name": "stdout",
     "output_type": "stream",
     "text": [
      "WE, THE PEOPLE OF INDIA,\n",
      "\t having solemnly resolved to constitute India into a SOVEREIGN!\n",
      "\t\t SOCIALIST, SECULAR, DEMOCRATIC REPUBLIC \n",
      "\t\t  and to secure to all its citizens\n"
     ]
    }
   ],
   "source": [
    "#2.4\n",
    "print('WE, THE PEOPLE OF INDIA,\\n\\t having solemnly resolved to constitute India into a SOVEREIGN!\\n\\t\\t SOCIALIST, SECULAR, DEMOCRATIC REPUBLIC \\n\\t\\t  and to secure to all its citizens')"
   ]
  },
  {
   "cell_type": "code",
   "execution_count": null,
   "metadata": {},
   "outputs": [],
   "source": []
  }
 ],
 "metadata": {
  "kernelspec": {
   "display_name": "Python 3",
   "language": "python",
   "name": "python3"
  },
  "language_info": {
   "codemirror_mode": {
    "name": "ipython",
    "version": 3
   },
   "file_extension": ".py",
   "mimetype": "text/x-python",
   "name": "python",
   "nbconvert_exporter": "python",
   "pygments_lexer": "ipython3",
   "version": "3.6.5"
  }
 },
 "nbformat": 4,
 "nbformat_minor": 2
}
